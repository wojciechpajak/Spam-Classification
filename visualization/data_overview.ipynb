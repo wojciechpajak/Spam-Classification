{
  "cells": [
    {
      "cell_type": "code",
      "execution_count": 2,
      "metadata": {
        "colab": {
          "base_uri": "https://localhost:8080/"
        },
        "id": "jRavJEgH0GJZ",
        "outputId": "1a8cc133-9ceb-4502-b250-086ec0685c89"
      },
      "outputs": [
        {
          "name": "stdout",
          "output_type": "stream",
          "text": [
            "Python version:  3.10.11 (tags/v3.10.11:7d4cc5a, Apr  5 2023, 00:38:17) [MSC v.1929 64 bit (AMD64)]\n"
          ]
        }
      ],
      "source": [
        "import sys\n",
        "print(\"Python version: \", sys.version)\n",
        "import os\n",
        "import pandas as pd\n",
        "from tqdm import tqdm\n",
        "from pathlib import Path"
      ]
    },
    {
      "cell_type": "code",
      "execution_count": 3,
      "metadata": {},
      "outputs": [],
      "source": [
        "# Paths\n",
        "SRC_DIR = Path('../Data/')\n",
        "DATA_DIR = SRC_DIR / 'csv files'\n",
        "STATS_DIR = SRC_DIR / 'csv stats'"
      ]
    },
    {
      "cell_type": "code",
      "execution_count": 54,
      "metadata": {},
      "outputs": [],
      "source": [
        "num = 1\n",
        "\n",
        "filename = f'dataset_enron{num}'\n",
        "# filename = 'dataset_spamassassin'\n",
        "dataset_df = pd.read_csv(os.path.join(DATA_DIR, f\"{filename}.csv\"))"
      ]
    },
    {
      "cell_type": "code",
      "execution_count": 58,
      "metadata": {
        "colab": {
          "base_uri": "https://localhost:8080/",
          "height": 206
        },
        "id": "up9v4hVsDLaG",
        "outputId": "b117c1af-2f69-4499-b858-412adae995d9"
      },
      "outputs": [
        {
          "data": {
            "text/html": [
              "<div>\n",
              "<style scoped>\n",
              "    .dataframe tbody tr th:only-of-type {\n",
              "        vertical-align: middle;\n",
              "    }\n",
              "\n",
              "    .dataframe tbody tr th {\n",
              "        vertical-align: top;\n",
              "    }\n",
              "\n",
              "    .dataframe thead th {\n",
              "        text-align: right;\n",
              "    }\n",
              "</style>\n",
              "<table border=\"1\" class=\"dataframe\">\n",
              "  <thead>\n",
              "    <tr style=\"text-align: right;\">\n",
              "      <th></th>\n",
              "      <th>id</th>\n",
              "      <th>class</th>\n",
              "      <th>label</th>\n",
              "      <th>subject</th>\n",
              "      <th>body</th>\n",
              "    </tr>\n",
              "  </thead>\n",
              "  <tbody>\n",
              "    <tr>\n",
              "      <th>0</th>\n",
              "      <td>1</td>\n",
              "      <td>ham</td>\n",
              "      <td>0</td>\n",
              "      <td>christmas tree farm picture</td>\n",
              "      <td>NaN</td>\n",
              "    </tr>\n",
              "    <tr>\n",
              "      <th>1</th>\n",
              "      <td>2</td>\n",
              "      <td>ham</td>\n",
              "      <td>0</td>\n",
              "      <td>vastar resource , inc .</td>\n",
              "      <td>gary , production high island larger block - N...</td>\n",
              "    </tr>\n",
              "    <tr>\n",
              "      <th>2</th>\n",
              "      <td>3</td>\n",
              "      <td>ham</td>\n",
              "      <td>0</td>\n",
              "      <td>calpine daily gas nomination</td>\n",
              "      <td>- calpine daily gas nomination NUMBER . doc</td>\n",
              "    </tr>\n",
              "    <tr>\n",
              "      <th>3</th>\n",
              "      <td>4</td>\n",
              "      <td>ham</td>\n",
              "      <td>0</td>\n",
              "      <td>re : issue</td>\n",
              "      <td>fyi - see note - already done . stella - - - -...</td>\n",
              "    </tr>\n",
              "    <tr>\n",
              "      <th>4</th>\n",
              "      <td>5</td>\n",
              "      <td>ham</td>\n",
              "      <td>0</td>\n",
              "      <td>meter NUMBER nov allocation</td>\n",
              "      <td>fyi . - - - - - - - - - - - - - - - - - - - - ...</td>\n",
              "    </tr>\n",
              "  </tbody>\n",
              "</table>\n",
              "</div>"
            ],
            "text/plain": [
              "   id class  label                       subject  \\\n",
              "0   1   ham      0   christmas tree farm picture   \n",
              "1   2   ham      0       vastar resource , inc .   \n",
              "2   3   ham      0  calpine daily gas nomination   \n",
              "3   4   ham      0                    re : issue   \n",
              "4   5   ham      0   meter NUMBER nov allocation   \n",
              "\n",
              "                                                body  \n",
              "0                                                NaN  \n",
              "1  gary , production high island larger block - N...  \n",
              "2        - calpine daily gas nomination NUMBER . doc  \n",
              "3  fyi - see note - already done . stella - - - -...  \n",
              "4  fyi . - - - - - - - - - - - - - - - - - - - - ...  "
            ]
          },
          "execution_count": 58,
          "metadata": {},
          "output_type": "execute_result"
        }
      ],
      "source": [
        "dataset_df.head()"
      ]
    },
    {
      "cell_type": "code",
      "execution_count": 59,
      "metadata": {
        "colab": {
          "base_uri": "https://localhost:8080/"
        },
        "id": "lze-d6hBEUQL",
        "outputId": "21e20885-cc34-4cbd-b1bb-e3bb5189e0d9"
      },
      "outputs": [
        {
          "data": {
            "text/plain": [
              "class\n",
              "ham     3672\n",
              "spam    1500\n",
              "Name: count, dtype: int64"
            ]
          },
          "execution_count": 59,
          "metadata": {},
          "output_type": "execute_result"
        }
      ],
      "source": [
        "dataset_df['class'].value_counts()"
      ]
    },
    {
      "cell_type": "code",
      "execution_count": 60,
      "metadata": {
        "colab": {
          "base_uri": "https://localhost:8080/"
        },
        "id": "Rp-1oe-lEdKV",
        "outputId": "689b4815-8809-42a1-953b-d2e2ebe2aad5"
      },
      "outputs": [
        {
          "data": {
            "text/plain": [
              "0"
            ]
          },
          "execution_count": 60,
          "metadata": {},
          "output_type": "execute_result"
        }
      ],
      "source": [
        "dataset_df.duplicated().sum()"
      ]
    },
    {
      "cell_type": "code",
      "execution_count": 61,
      "metadata": {
        "colab": {
          "base_uri": "https://localhost:8080/"
        },
        "id": "pNrGvkeREgEs",
        "outputId": "1be3940b-1ab4-477e-d491-50cd7b2d1d5c"
      },
      "outputs": [
        {
          "data": {
            "text/plain": [
              "id          0\n",
              "class       0\n",
              "label       0\n",
              "subject    65\n",
              "body       99\n",
              "dtype: int64"
            ]
          },
          "execution_count": 61,
          "metadata": {},
          "output_type": "execute_result"
        }
      ],
      "source": [
        "dataset_df.isnull().sum()"
      ]
    },
    {
      "cell_type": "code",
      "execution_count": 52,
      "metadata": {},
      "outputs": [],
      "source": [
        "num = 1\n",
        "filename_stats = f'stats_enron{num}'\n",
        "# filename = 'stats_spamassassin'\n",
        "spam_df = pd.read_csv(os.path.join(STATS_DIR, f\"{filename_stats}_spam.csv\"))\n",
        "ham_df = pd.read_csv(os.path.join(STATS_DIR, f\"{filename_stats}_ham.csv\"))"
      ]
    },
    {
      "cell_type": "code",
      "execution_count": 53,
      "metadata": {},
      "outputs": [
        {
          "data": {
            "text/html": [
              "<div>\n",
              "<style scoped>\n",
              "    .dataframe tbody tr th:only-of-type {\n",
              "        vertical-align: middle;\n",
              "    }\n",
              "\n",
              "    .dataframe tbody tr th {\n",
              "        vertical-align: top;\n",
              "    }\n",
              "\n",
              "    .dataframe thead th {\n",
              "        text-align: right;\n",
              "    }\n",
              "</style>\n",
              "<table border=\"1\" class=\"dataframe\">\n",
              "  <thead>\n",
              "    <tr style=\"text-align: right;\">\n",
              "      <th></th>\n",
              "      <th>word</th>\n",
              "      <th>freq</th>\n",
              "      <th>word</th>\n",
              "      <th>freq</th>\n",
              "    </tr>\n",
              "  </thead>\n",
              "  <tbody>\n",
              "    <tr>\n",
              "      <th>0</th>\n",
              "      <td>NUMBER</td>\n",
              "      <td>17197</td>\n",
              "      <td>NUMBER</td>\n",
              "      <td>60986</td>\n",
              "    </tr>\n",
              "    <tr>\n",
              "      <th>1</th>\n",
              "      <td>com</td>\n",
              "      <td>991</td>\n",
              "      <td>ect</td>\n",
              "      <td>13893</td>\n",
              "    </tr>\n",
              "    <tr>\n",
              "      <th>2</th>\n",
              "      <td>http</td>\n",
              "      <td>984</td>\n",
              "      <td>hou</td>\n",
              "      <td>7281</td>\n",
              "    </tr>\n",
              "    <tr>\n",
              "      <th>3</th>\n",
              "      <td>company</td>\n",
              "      <td>916</td>\n",
              "      <td>enron</td>\n",
              "      <td>6279</td>\n",
              "    </tr>\n",
              "    <tr>\n",
              "      <th>4</th>\n",
              "      <td>u</td>\n",
              "      <td>720</td>\n",
              "      <td>deal</td>\n",
              "      <td>3334</td>\n",
              "    </tr>\n",
              "    <tr>\n",
              "      <th>5</th>\n",
              "      <td>price</td>\n",
              "      <td>664</td>\n",
              "      <td>subject</td>\n",
              "      <td>2730</td>\n",
              "    </tr>\n",
              "    <tr>\n",
              "      <th>6</th>\n",
              "      <td>e</td>\n",
              "      <td>634</td>\n",
              "      <td>please</td>\n",
              "      <td>2697</td>\n",
              "    </tr>\n",
              "    <tr>\n",
              "      <th>7</th>\n",
              "      <td>www</td>\n",
              "      <td>587</td>\n",
              "      <td>com</td>\n",
              "      <td>2693</td>\n",
              "    </tr>\n",
              "    <tr>\n",
              "      <th>8</th>\n",
              "      <td>information</td>\n",
              "      <td>514</td>\n",
              "      <td>gas</td>\n",
              "      <td>2629</td>\n",
              "    </tr>\n",
              "    <tr>\n",
              "      <th>9</th>\n",
              "      <td>font</td>\n",
              "      <td>511</td>\n",
              "      <td>cc</td>\n",
              "      <td>2377</td>\n",
              "    </tr>\n",
              "  </tbody>\n",
              "</table>\n",
              "</div>"
            ],
            "text/plain": [
              "          word   freq     word   freq\n",
              "0       NUMBER  17197   NUMBER  60986\n",
              "1          com    991      ect  13893\n",
              "2         http    984      hou   7281\n",
              "3      company    916    enron   6279\n",
              "4            u    720     deal   3334\n",
              "5        price    664  subject   2730\n",
              "6            e    634   please   2697\n",
              "7          www    587      com   2693\n",
              "8  information    514      gas   2629\n",
              "9         font    511       cc   2377"
            ]
          },
          "execution_count": 53,
          "metadata": {},
          "output_type": "execute_result"
        }
      ],
      "source": [
        "combined_df = pd.concat([spam_df.head(10), ham_df.head(10)], axis=1)\n",
        "combined_df"
      ]
    }
  ],
  "metadata": {
    "accelerator": "GPU",
    "colab": {
      "provenance": []
    },
    "kernelspec": {
      "display_name": "Python 3",
      "name": "python3"
    },
    "language_info": {
      "codemirror_mode": {
        "name": "ipython",
        "version": 3
      },
      "file_extension": ".py",
      "mimetype": "text/x-python",
      "name": "python",
      "nbconvert_exporter": "python",
      "pygments_lexer": "ipython3",
      "version": "3.10.11"
    }
  },
  "nbformat": 4,
  "nbformat_minor": 0
}
