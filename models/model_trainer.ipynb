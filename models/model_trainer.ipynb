{
  "cells": [
    {
      "cell_type": "markdown",
      "metadata": {
        "id": "M2LXxtNNo_7q"
      },
      "source": [
        "# (Notebook działa jedynie w Google Colabolatory!)"
        "#Imports & dependencies"
      ]
    },
    {
      "cell_type": "code",
      "execution_count": 1,
      "metadata": {
        "colab": {
          "base_uri": "https://localhost:8080/"
        },
        "id": "jRavJEgH0GJZ",
        "outputId": "013ed61e-28e1-45f8-eea7-73fbb3fa74b9"
      },
      "outputs": [
        {
          "name": "stdout",
          "output_type": "stream",
          "text": [
            "Python version:  3.10.12 (main, Jun 11 2023, 05:26:28) [GCC 11.4.0]\n"
          ]
        }
      ],
      "source": [
        "import sys\n",
        "print(\"Python version: \", sys.version)"
      ]
    },
    {
      "cell_type": "code",
      "execution_count": 2,
      "metadata": {
        "colab": {
          "base_uri": "https://localhost:8080/"
        },
        "id": "npMCPJFa6r15",
        "outputId": "0b37ea8f-d9a4-4c4b-95a4-e8564595100c"
      },
      "outputs": [
        {
          "name": "stdout",
          "output_type": "stream",
          "text": [
            "Collecting shap\n",
            "  Downloading shap-0.43.0-cp310-cp310-manylinux_2_12_x86_64.manylinux2010_x86_64.manylinux_2_17_x86_64.manylinux2014_x86_64.whl (532 kB)\n",
            "\u001b[?25l     \u001b[90m━━━━━━━━━━━━━━━━━━━━━━━━━━━━━━━━━━━━━━━━\u001b[0m \u001b[32m0.0/532.9 kB\u001b[0m \u001b[31m?\u001b[0m eta \u001b[36m-:--:--\u001b[0m\r\u001b[2K     \u001b[91m━━━━━━━━━━━━━━\u001b[0m\u001b[91m╸\u001b[0m\u001b[90m━━━━━━━━━━━━━━━━━━━━━━━━━\u001b[0m \u001b[32m194.6/532.9 kB\u001b[0m \u001b[31m5.9 MB/s\u001b[0m eta \u001b[36m0:00:01\u001b[0m\r\u001b[2K     \u001b[90m━━━━━━━━━━━━━━━━━━━━━━━━━━━━━━━━━━━━━━━━\u001b[0m \u001b[32m532.9/532.9 kB\u001b[0m \u001b[31m8.1 MB/s\u001b[0m eta \u001b[36m0:00:00\u001b[0m\n",
            "\u001b[?25hRequirement already satisfied: numpy in /usr/local/lib/python3.10/dist-packages (from shap) (1.23.5)\n",
            "Requirement already satisfied: scipy in /usr/local/lib/python3.10/dist-packages (from shap) (1.11.3)\n",
            "Requirement already satisfied: scikit-learn in /usr/local/lib/python3.10/dist-packages (from shap) (1.2.2)\n",
            "Requirement already satisfied: pandas in /usr/local/lib/python3.10/dist-packages (from shap) (1.5.3)\n",
            "Requirement already satisfied: tqdm>=4.27.0 in /usr/local/lib/python3.10/dist-packages (from shap) (4.66.1)\n",
            "Requirement already satisfied: packaging>20.9 in /usr/local/lib/python3.10/dist-packages (from shap) (23.2)\n",
            "Collecting slicer==0.0.7 (from shap)\n",
            "  Downloading slicer-0.0.7-py3-none-any.whl (14 kB)\n",
            "Requirement already satisfied: numba in /usr/local/lib/python3.10/dist-packages (from shap) (0.58.1)\n",
            "Requirement already satisfied: cloudpickle in /usr/local/lib/python3.10/dist-packages (from shap) (2.2.1)\n",
            "Requirement already satisfied: llvmlite<0.42,>=0.41.0dev0 in /usr/local/lib/python3.10/dist-packages (from numba->shap) (0.41.1)\n",
            "Requirement already satisfied: python-dateutil>=2.8.1 in /usr/local/lib/python3.10/dist-packages (from pandas->shap) (2.8.2)\n",
            "Requirement already satisfied: pytz>=2020.1 in /usr/local/lib/python3.10/dist-packages (from pandas->shap) (2023.3.post1)\n",
            "Requirement already satisfied: joblib>=1.1.1 in /usr/local/lib/python3.10/dist-packages (from scikit-learn->shap) (1.3.2)\n",
            "Requirement already satisfied: threadpoolctl>=2.0.0 in /usr/local/lib/python3.10/dist-packages (from scikit-learn->shap) (3.2.0)\n",
            "Requirement already satisfied: six>=1.5 in /usr/local/lib/python3.10/dist-packages (from python-dateutil>=2.8.1->pandas->shap) (1.16.0)\n",
            "Installing collected packages: slicer, shap\n",
            "Successfully installed shap-0.43.0 slicer-0.0.7\n",
            "Requirement already satisfied: transformers in /usr/local/lib/python3.10/dist-packages (4.35.2)\n",
            "Requirement already satisfied: filelock in /usr/local/lib/python3.10/dist-packages (from transformers) (3.13.1)\n",
            "Requirement already satisfied: huggingface-hub<1.0,>=0.16.4 in /usr/local/lib/python3.10/dist-packages (from transformers) (0.19.4)\n",
            "Requirement already satisfied: numpy>=1.17 in /usr/local/lib/python3.10/dist-packages (from transformers) (1.23.5)\n",
            "Requirement already satisfied: packaging>=20.0 in /usr/local/lib/python3.10/dist-packages (from transformers) (23.2)\n",
            "Requirement already satisfied: pyyaml>=5.1 in /usr/local/lib/python3.10/dist-packages (from transformers) (6.0.1)\n",
            "Requirement already satisfied: regex!=2019.12.17 in /usr/local/lib/python3.10/dist-packages (from transformers) (2023.6.3)\n",
            "Requirement already satisfied: requests in /usr/local/lib/python3.10/dist-packages (from transformers) (2.31.0)\n",
            "Requirement already satisfied: tokenizers<0.19,>=0.14 in /usr/local/lib/python3.10/dist-packages (from transformers) (0.15.0)\n",
            "Requirement already satisfied: safetensors>=0.3.1 in /usr/local/lib/python3.10/dist-packages (from transformers) (0.4.0)\n",
            "Requirement already satisfied: tqdm>=4.27 in /usr/local/lib/python3.10/dist-packages (from transformers) (4.66.1)\n",
            "Requirement already satisfied: fsspec>=2023.5.0 in /usr/local/lib/python3.10/dist-packages (from huggingface-hub<1.0,>=0.16.4->transformers) (2023.6.0)\n",
            "Requirement already satisfied: typing-extensions>=3.7.4.3 in /usr/local/lib/python3.10/dist-packages (from huggingface-hub<1.0,>=0.16.4->transformers) (4.5.0)\n",
            "Requirement already satisfied: charset-normalizer<4,>=2 in /usr/local/lib/python3.10/dist-packages (from requests->transformers) (3.3.2)\n",
            "Requirement already satisfied: idna<4,>=2.5 in /usr/local/lib/python3.10/dist-packages (from requests->transformers) (3.4)\n",
            "Requirement already satisfied: urllib3<3,>=1.21.1 in /usr/local/lib/python3.10/dist-packages (from requests->transformers) (2.0.7)\n",
            "Requirement already satisfied: certifi>=2017.4.17 in /usr/local/lib/python3.10/dist-packages (from requests->transformers) (2023.7.22)\n"
          ]
        }
      ],
      "source": [
        "!pip install shap\n",
        "!pip install transformers"
      ]
    },
    {
      "cell_type": "code",
      "execution_count": 3,
      "metadata": {
        "id": "9kFV4qMe5avA"
      },
      "outputs": [],
      "source": [
        "import os\n",
        "from pathlib import Path\n",
        "import pandas as pd\n",
        "from tqdm import tqdm\n",
        "import numpy as np\n",
        "import shap\n",
        "from joblib import dump, load\n",
        "from transformers import pipeline\n",
        "import matplotlib.pyplot as plt\n",
        "\n",
        "from sklearn.feature_extraction.text import TfidfVectorizer\n",
        "from sklearn.model_selection import train_test_split, cross_validate\n",
        "from sklearn.naive_bayes import MultinomialNB\n",
        "from sklearn.svm import SVC\n",
        "from sklearn.neural_network import MLPClassifier\n",
        "from sklearn.metrics import accuracy_score, classification_report"
      ]
    },
    {
      "cell_type": "markdown",
      "metadata": {
        "id": "lPeUsN-BquZk"
      },
      "source": [
        "# Paths"
      ]
    },
    {
      "cell_type": "code",
      "execution_count": 4,
      "metadata": {
        "colab": {
          "base_uri": "https://localhost:8080/"
        },
        "id": "d3n0yp-vqsv3",
        "outputId": "94f0221d-8238-4af4-a5dc-4ee5b2477cfa"
      },
      "outputs": [
        {
          "name": "stdout",
          "output_type": "stream",
          "text": [
            "Mounted at /content/drive\n"
          ]
        }
      ],
      "source": [
        "from google.colab import drive\n",
        "drive.mount('/content/drive')"
      ]
    },
    {
      "cell_type": "code",
      "execution_count": 5,
      "metadata": {
        "id": "_-hTSNQd59zo"
      },
      "outputs": [],
      "source": [
        "SRC_DIR = Path('/content/drive/MyDrive/Project/')\n",
        "DATA_DIR = SRC_DIR / \"Data\""
      ]
    },
    {
      "cell_type": "markdown",
      "metadata": {
        "id": "Zz6mdBu3r1ky"
      },
      "source": [
        "# Load data"
      ]
    },
    {
      "cell_type": "code",
      "execution_count": 6,
      "metadata": {
        "id": "wAOEKKoErHaf"
      },
      "outputs": [],
      "source": [
        "datasets_df = []\n",
        "\n",
        "for num in range(1, 7):\n",
        "    datasets_df.append(pd.read_csv(os.path.join(DATA_DIR, f\"dataset_enron{num}.csv\")))"
      ]
    },
    {
      "cell_type": "code",
      "execution_count": null,
      "metadata": {
        "colab": {
          "base_uri": "https://localhost:8080/",
          "height": 206
        },
        "id": "Yl1pX0CjRoZT",
        "outputId": "ce1caad8-245b-47de-e9fe-6b456bf24c3f"
      },
      "outputs": [
        {
          "data": {
            "text/html": [
              "\n",
              "  <div id=\"df-9b8719cf-01d2-4102-a50a-52f7954c8ef8\" class=\"colab-df-container\">\n",
              "    <div>\n",
              "<style scoped>\n",
              "    .dataframe tbody tr th:only-of-type {\n",
              "        vertical-align: middle;\n",
              "    }\n",
              "\n",
              "    .dataframe tbody tr th {\n",
              "        vertical-align: top;\n",
              "    }\n",
              "\n",
              "    .dataframe thead th {\n",
              "        text-align: right;\n",
              "    }\n",
              "</style>\n",
              "<table border=\"1\" class=\"dataframe\">\n",
              "  <thead>\n",
              "    <tr style=\"text-align: right;\">\n",
              "      <th></th>\n",
              "      <th>id</th>\n",
              "      <th>class</th>\n",
              "      <th>label</th>\n",
              "      <th>subject</th>\n",
              "      <th>body</th>\n",
              "    </tr>\n",
              "  </thead>\n",
              "  <tbody>\n",
              "    <tr>\n",
              "      <th>0</th>\n",
              "      <td>1</td>\n",
              "      <td>ham</td>\n",
              "      <td>0</td>\n",
              "      <td>christmas tree farm picture</td>\n",
              "      <td>NaN</td>\n",
              "    </tr>\n",
              "    <tr>\n",
              "      <th>1</th>\n",
              "      <td>2</td>\n",
              "      <td>ham</td>\n",
              "      <td>0</td>\n",
              "      <td>vastar resource , inc .</td>\n",
              "      <td>gary , production high island large block - NU...</td>\n",
              "    </tr>\n",
              "    <tr>\n",
              "      <th>2</th>\n",
              "      <td>3</td>\n",
              "      <td>ham</td>\n",
              "      <td>0</td>\n",
              "      <td>calpine daily gas nomination</td>\n",
              "      <td>- calpine daily gas nomination NUMBER . doc</td>\n",
              "    </tr>\n",
              "    <tr>\n",
              "      <th>3</th>\n",
              "      <td>4</td>\n",
              "      <td>ham</td>\n",
              "      <td>0</td>\n",
              "      <td>re : issue</td>\n",
              "      <td>fyi - see note - already do . stella - - - - -...</td>\n",
              "    </tr>\n",
              "    <tr>\n",
              "      <th>4</th>\n",
              "      <td>5</td>\n",
              "      <td>ham</td>\n",
              "      <td>0</td>\n",
              "      <td>meter NUMBER nov allocation</td>\n",
              "      <td>fyi . - - - - - - - - - - - - - - - - - - - - ...</td>\n",
              "    </tr>\n",
              "  </tbody>\n",
              "</table>\n",
              "</div>\n",
              "    <div class=\"colab-df-buttons\">\n",
              "\n",
              "  <div class=\"colab-df-container\">\n",
              "    <button class=\"colab-df-convert\" onclick=\"convertToInteractive('df-9b8719cf-01d2-4102-a50a-52f7954c8ef8')\"\n",
              "            title=\"Convert this dataframe to an interactive table.\"\n",
              "            style=\"display:none;\">\n",
              "\n",
              "  <svg xmlns=\"http://www.w3.org/2000/svg\" height=\"24px\" viewBox=\"0 -960 960 960\">\n",
              "    <path d=\"M120-120v-720h720v720H120Zm60-500h600v-160H180v160Zm220 220h160v-160H400v160Zm0 220h160v-160H400v160ZM180-400h160v-160H180v160Zm440 0h160v-160H620v160ZM180-180h160v-160H180v160Zm440 0h160v-160H620v160Z\"/>\n",
              "  </svg>\n",
              "    </button>\n",
              "\n",
              "  <style>\n",
              "    .colab-df-container {\n",
              "      display:flex;\n",
              "      gap: 12px;\n",
              "    }\n",
              "\n",
              "    .colab-df-convert {\n",
              "      background-color: #E8F0FE;\n",
              "      border: none;\n",
              "      border-radius: 50%;\n",
              "      cursor: pointer;\n",
              "      display: none;\n",
              "      fill: #1967D2;\n",
              "      height: 32px;\n",
              "      padding: 0 0 0 0;\n",
              "      width: 32px;\n",
              "    }\n",
              "\n",
              "    .colab-df-convert:hover {\n",
              "      background-color: #E2EBFA;\n",
              "      box-shadow: 0px 1px 2px rgba(60, 64, 67, 0.3), 0px 1px 3px 1px rgba(60, 64, 67, 0.15);\n",
              "      fill: #174EA6;\n",
              "    }\n",
              "\n",
              "    .colab-df-buttons div {\n",
              "      margin-bottom: 4px;\n",
              "    }\n",
              "\n",
              "    [theme=dark] .colab-df-convert {\n",
              "      background-color: #3B4455;\n",
              "      fill: #D2E3FC;\n",
              "    }\n",
              "\n",
              "    [theme=dark] .colab-df-convert:hover {\n",
              "      background-color: #434B5C;\n",
              "      box-shadow: 0px 1px 3px 1px rgba(0, 0, 0, 0.15);\n",
              "      filter: drop-shadow(0px 1px 2px rgba(0, 0, 0, 0.3));\n",
              "      fill: #FFFFFF;\n",
              "    }\n",
              "  </style>\n",
              "\n",
              "    <script>\n",
              "      const buttonEl =\n",
              "        document.querySelector('#df-9b8719cf-01d2-4102-a50a-52f7954c8ef8 button.colab-df-convert');\n",
              "      buttonEl.style.display =\n",
              "        google.colab.kernel.accessAllowed ? 'block' : 'none';\n",
              "\n",
              "      async function convertToInteractive(key) {\n",
              "        const element = document.querySelector('#df-9b8719cf-01d2-4102-a50a-52f7954c8ef8');\n",
              "        const dataTable =\n",
              "          await google.colab.kernel.invokeFunction('convertToInteractive',\n",
              "                                                    [key], {});\n",
              "        if (!dataTable) return;\n",
              "\n",
              "        const docLinkHtml = 'Like what you see? Visit the ' +\n",
              "          '<a target=\"_blank\" href=https://colab.research.google.com/notebooks/data_table.ipynb>data table notebook</a>'\n",
              "          + ' to learn more about interactive tables.';\n",
              "        element.innerHTML = '';\n",
              "        dataTable['output_type'] = 'display_data';\n",
              "        await google.colab.output.renderOutput(dataTable, element);\n",
              "        const docLink = document.createElement('div');\n",
              "        docLink.innerHTML = docLinkHtml;\n",
              "        element.appendChild(docLink);\n",
              "      }\n",
              "    </script>\n",
              "  </div>\n",
              "\n",
              "\n",
              "<div id=\"df-ddde76d4-4eab-4aba-ab8c-b448248c1bdf\">\n",
              "  <button class=\"colab-df-quickchart\" onclick=\"quickchart('df-ddde76d4-4eab-4aba-ab8c-b448248c1bdf')\"\n",
              "            title=\"Suggest charts\"\n",
              "            style=\"display:none;\">\n",
              "\n",
              "<svg xmlns=\"http://www.w3.org/2000/svg\" height=\"24px\"viewBox=\"0 0 24 24\"\n",
              "     width=\"24px\">\n",
              "    <g>\n",
              "        <path d=\"M19 3H5c-1.1 0-2 .9-2 2v14c0 1.1.9 2 2 2h14c1.1 0 2-.9 2-2V5c0-1.1-.9-2-2-2zM9 17H7v-7h2v7zm4 0h-2V7h2v10zm4 0h-2v-4h2v4z\"/>\n",
              "    </g>\n",
              "</svg>\n",
              "  </button>\n",
              "\n",
              "<style>\n",
              "  .colab-df-quickchart {\n",
              "      --bg-color: #E8F0FE;\n",
              "      --fill-color: #1967D2;\n",
              "      --hover-bg-color: #E2EBFA;\n",
              "      --hover-fill-color: #174EA6;\n",
              "      --disabled-fill-color: #AAA;\n",
              "      --disabled-bg-color: #DDD;\n",
              "  }\n",
              "\n",
              "  [theme=dark] .colab-df-quickchart {\n",
              "      --bg-color: #3B4455;\n",
              "      --fill-color: #D2E3FC;\n",
              "      --hover-bg-color: #434B5C;\n",
              "      --hover-fill-color: #FFFFFF;\n",
              "      --disabled-bg-color: #3B4455;\n",
              "      --disabled-fill-color: #666;\n",
              "  }\n",
              "\n",
              "  .colab-df-quickchart {\n",
              "    background-color: var(--bg-color);\n",
              "    border: none;\n",
              "    border-radius: 50%;\n",
              "    cursor: pointer;\n",
              "    display: none;\n",
              "    fill: var(--fill-color);\n",
              "    height: 32px;\n",
              "    padding: 0;\n",
              "    width: 32px;\n",
              "  }\n",
              "\n",
              "  .colab-df-quickchart:hover {\n",
              "    background-color: var(--hover-bg-color);\n",
              "    box-shadow: 0 1px 2px rgba(60, 64, 67, 0.3), 0 1px 3px 1px rgba(60, 64, 67, 0.15);\n",
              "    fill: var(--button-hover-fill-color);\n",
              "  }\n",
              "\n",
              "  .colab-df-quickchart-complete:disabled,\n",
              "  .colab-df-quickchart-complete:disabled:hover {\n",
              "    background-color: var(--disabled-bg-color);\n",
              "    fill: var(--disabled-fill-color);\n",
              "    box-shadow: none;\n",
              "  }\n",
              "\n",
              "  .colab-df-spinner {\n",
              "    border: 2px solid var(--fill-color);\n",
              "    border-color: transparent;\n",
              "    border-bottom-color: var(--fill-color);\n",
              "    animation:\n",
              "      spin 1s steps(1) infinite;\n",
              "  }\n",
              "\n",
              "  @keyframes spin {\n",
              "    0% {\n",
              "      border-color: transparent;\n",
              "      border-bottom-color: var(--fill-color);\n",
              "      border-left-color: var(--fill-color);\n",
              "    }\n",
              "    20% {\n",
              "      border-color: transparent;\n",
              "      border-left-color: var(--fill-color);\n",
              "      border-top-color: var(--fill-color);\n",
              "    }\n",
              "    30% {\n",
              "      border-color: transparent;\n",
              "      border-left-color: var(--fill-color);\n",
              "      border-top-color: var(--fill-color);\n",
              "      border-right-color: var(--fill-color);\n",
              "    }\n",
              "    40% {\n",
              "      border-color: transparent;\n",
              "      border-right-color: var(--fill-color);\n",
              "      border-top-color: var(--fill-color);\n",
              "    }\n",
              "    60% {\n",
              "      border-color: transparent;\n",
              "      border-right-color: var(--fill-color);\n",
              "    }\n",
              "    80% {\n",
              "      border-color: transparent;\n",
              "      border-right-color: var(--fill-color);\n",
              "      border-bottom-color: var(--fill-color);\n",
              "    }\n",
              "    90% {\n",
              "      border-color: transparent;\n",
              "      border-bottom-color: var(--fill-color);\n",
              "    }\n",
              "  }\n",
              "</style>\n",
              "\n",
              "  <script>\n",
              "    async function quickchart(key) {\n",
              "      const quickchartButtonEl =\n",
              "        document.querySelector('#' + key + ' button');\n",
              "      quickchartButtonEl.disabled = true;  // To prevent multiple clicks.\n",
              "      quickchartButtonEl.classList.add('colab-df-spinner');\n",
              "      try {\n",
              "        const charts = await google.colab.kernel.invokeFunction(\n",
              "            'suggestCharts', [key], {});\n",
              "      } catch (error) {\n",
              "        console.error('Error during call to suggestCharts:', error);\n",
              "      }\n",
              "      quickchartButtonEl.classList.remove('colab-df-spinner');\n",
              "      quickchartButtonEl.classList.add('colab-df-quickchart-complete');\n",
              "    }\n",
              "    (() => {\n",
              "      let quickchartButtonEl =\n",
              "        document.querySelector('#df-ddde76d4-4eab-4aba-ab8c-b448248c1bdf button');\n",
              "      quickchartButtonEl.style.display =\n",
              "        google.colab.kernel.accessAllowed ? 'block' : 'none';\n",
              "    })();\n",
              "  </script>\n",
              "</div>\n",
              "    </div>\n",
              "  </div>\n"
            ],
            "text/plain": [
              "   id class  label                       subject  \\\n",
              "0   1   ham      0   christmas tree farm picture   \n",
              "1   2   ham      0       vastar resource , inc .   \n",
              "2   3   ham      0  calpine daily gas nomination   \n",
              "3   4   ham      0                    re : issue   \n",
              "4   5   ham      0   meter NUMBER nov allocation   \n",
              "\n",
              "                                                body  \n",
              "0                                                NaN  \n",
              "1  gary , production high island large block - NU...  \n",
              "2        - calpine daily gas nomination NUMBER . doc  \n",
              "3  fyi - see note - already do . stella - - - - -...  \n",
              "4  fyi . - - - - - - - - - - - - - - - - - - - - ...  "
            ]
          },
          "execution_count": 7,
          "metadata": {},
          "output_type": "execute_result"
        }
      ],
      "source": [
        "datasets_df[0].head()"
      ]
    },
    {
      "cell_type": "code",
      "execution_count": null,
      "metadata": {
        "id": "SiZ4zWvaRo_J"
      },
      "outputs": [],
      "source": [
        "for i in range(6):\n",
        "    print(f'enron{i+1}:')\n",
        "    print(datasets_df[i]['class'].value_counts())"
      ]
    },
    {
      "cell_type": "code",
      "execution_count": null,
      "metadata": {
        "id": "CS5tLPzNRvRy"
      },
      "outputs": [],
      "source": [
        "datasets_df[0].isnull().sum()"
      ]
    },
    {
      "cell_type": "markdown",
      "metadata": {
        "id": "jemQhvuZPz36"
      },
      "source": [
        "# Load corpus/labels"
      ]
    },
    {
      "cell_type": "code",
      "execution_count": 7,
      "metadata": {
        "colab": {
          "base_uri": "https://localhost:8080/"
        },
        "id": "ThRrl8-80XkD",
        "outputId": "1a633f5d-7380-4606-d294-6d10c7eb3fe7"
      },
      "outputs": [
        {
          "name": "stderr",
          "output_type": "stream",
          "text": [
            "100%|██████████| 5172/5172 [00:00<00:00, 219249.06it/s]\n",
            "100%|██████████| 5857/5857 [00:00<00:00, 209193.73it/s]\n",
            "100%|██████████| 5512/5512 [00:00<00:00, 234009.86it/s]\n",
            "100%|██████████| 5999/5999 [00:00<00:00, 234672.91it/s]\n",
            "100%|██████████| 5175/5175 [00:00<00:00, 272946.48it/s]\n",
            "100%|██████████| 6000/6000 [00:00<00:00, 264524.72it/s]\n"
          ]
        }
      ],
      "source": [
        "# CORPUS CAŁY\n",
        "corpus = []\n",
        "labels = []\n",
        "\n",
        "for i in range(0, 6):\n",
        "    body_column = datasets_df[i][\"body\"]\n",
        "    label_column = datasets_df[i][\"label\"]\n",
        "\n",
        "    for body, label in tqdm(zip(body_column, label_column), total=len(datasets_df[i])):\n",
        "        corpus.append(str(body))\n",
        "        labels.append(int(label))\n"
      ]
    },
    {
      "cell_type": "code",
      "execution_count": null,
      "metadata": {
        "id": "EMkM_bpdPzfq"
      },
      "outputs": [],
      "source": [
        "# CORPUS TRENINGOWY\n",
        "corpus = []\n",
        "labels = []\n",
        "\n",
        "for i in 0, 1, 3, 4:\n",
        "    body_column = datasets_df[i][\"body\"]\n",
        "    label_column = datasets_df[i][\"label\"]\n",
        "\n",
        "    for body, label in tqdm(zip(body_column, label_column), total=len(datasets_df[i])):\n",
        "        corpus.append(str(body))\n",
        "        labels.append(int(label))\n"
      ]
    },
    {
      "cell_type": "code",
      "execution_count": null,
      "metadata": {
        "id": "l0PN_fHJNgNj"
      },
      "outputs": [],
      "source": [
        "# CORPUS TRENINGOWY\n",
        "test_corpus = []\n",
        "test_labels = []\n",
        "\n",
        "for i in 2, 5:\n",
        "    body_column = datasets_df[i][\"body\"]\n",
        "    label_column = datasets_df[i][\"label\"]\n",
        "\n",
        "    for body, label in tqdm(zip(body_column, label_column), total=len(datasets_df[i])):\n",
        "        test_corpus.append(str(body))\n",
        "        test_labels.append(int(label))"
      ]
    },
    {
      "cell_type": "code",
      "execution_count": null,
      "metadata": {
        "colab": {
          "base_uri": "https://localhost:8080/"
        },
        "id": "DAceG-DnDf1d",
        "outputId": "e49d7435-a755-4a2d-8fff-b3edd302922e"
      },
      "outputs": [
        {
          "name": "stdout",
          "output_type": "stream",
          "text": [
            "1000\n"
          ]
        }
      ],
      "source": [
        "# TYLKO 500 spam, 500 ham\n",
        "corpus = []\n",
        "labels = []\n",
        "\n",
        "for i in range(1):\n",
        "    body_column = datasets_df[i][\"body\"]\n",
        "    label_column = datasets_df[i][\"label\"]\n",
        "\n",
        "    # Pętla iterująca po zakresie od 0 do 499 i od 3674 do 4173\n",
        "    for j in range(500):\n",
        "        # Dodaj wiadomość i etykietę do corpus i labels\n",
        "        corpus.append(str(body_column[j]))\n",
        "        labels.append(int(label_column[j]))\n",
        "\n",
        "    for j in range(3674, 3674+500):\n",
        "        # Dodaj wiadomość i etykietę do corpus i labels\n",
        "        corpus.append(str(body_column[j]))\n",
        "        labels.append(int(label_column[j]))\n",
        "\n",
        "print(len(corpus))"
      ]
    },
    {
      "cell_type": "markdown",
      "metadata": {
        "id": "47PYXi8LSC00"
      },
      "source": [
        "# TF-IDF vectorization"
      ]
    },
    {
      "cell_type": "code",
      "execution_count": 8,
      "metadata": {
        "id": "r7fRkddDSMSY"
      },
      "outputs": [],
      "source": [
        "vectorizer = TfidfVectorizer(strip_accents='ascii', max_features=1000)\n",
        "X = vectorizer.fit_transform(corpus)\n",
        "y = labels"
      ]
    },
    {
      "cell_type": "code",
      "execution_count": null,
      "metadata": {
        "colab": {
          "base_uri": "https://localhost:8080/"
        },
        "id": "Tz3AbH6fSoRx",
        "outputId": "ce44c16b-54c3-47bb-b65f-520b5019fcaa"
      },
      "outputs": [
        {
          "name": "stdout",
          "output_type": "stream",
          "text": [
            "(33715, 1000)\n",
            "['able' 'accept' 'access' 'accord' 'account' 'accounting' 'acquire'\n",
            " 'acquisition' 'act' 'action' 'activity' 'actual' 'add' 'addition'\n",
            " 'additional' 'address' 'adobe' 'advance' 'advantage' 'advertisement'\n",
            " 'advice' 'advise' 'affiliate' 'afternoon' 'agency' 'agent' 'ago' 'agree'\n",
            " 'agreement' 'al' 'alias' 'allow' 'along' 'already' 'also' 'although'\n",
            " 'always' 'america' 'american' 'among' 'amount' 'analysis' 'analyst'\n",
            " 'andrew' 'announce' 'another' 'answer' 'anticipate' 'anyone']\n"
          ]
        }
      ],
      "source": [
        "print(X.shape)\n",
        "feature_names = vectorizer.get_feature_names_out()\n",
        "print(feature_names[1:50])\n",
        "dense_matrix = X.toarray()\n",
        "print(dense_matrix)"
      ]
    },
    {
      "cell_type": "code",
      "execution_count": null,
      "metadata": {
        "colab": {
          "base_uri": "https://localhost:8080/"
        },
        "id": "_ijXI_8AYhWk",
        "outputId": "01fe0e81-4bb2-48cb-ccd6-9f817984c60f"
      },
      "outputs": [
        {
          "name": "stdout",
          "output_type": "stream",
          "text": [
            "1000\n"
          ]
        }
      ],
      "source": [
        "print(X.shape[1])"
      ]
    },
    {
      "cell_type": "markdown",
      "metadata": {
        "id": "IkeIjMDHmjUv"
      },
      "source": [
        "# Train and test TTS\n",
        "Trenowanie na X_train, y_train, testowanie na X_test, y_test - losowy podział train/test"
      ]
    },
    {
      "cell_type": "code",
      "execution_count": null,
      "metadata": {
        "id": "VD5mLoCjmue2"
      },
      "outputs": [],
      "source": [
        "X_train, X_test, y_train, y_test = train_test_split(X, y, stratify=y, test_size=0.2, random_state=42)"
      ]
    },
    {
      "cell_type": "code",
      "execution_count": null,
      "metadata": {
        "id": "RKtaDkK5nDaR"
      },
      "outputs": [],
      "source": [
        "filename = 'MNB_MODEL_TTS'\n",
        "model = MultinomialNB(force_alpha=True).fit(X_train, y_train)"
      ]
    },
    {
      "cell_type": "code",
      "execution_count": null,
      "metadata": {
        "colab": {
          "base_uri": "https://localhost:8080/"
        },
        "id": "uumqRQ_cm70V",
        "outputId": "db041404-00fb-4481-89b2-47746e7d0e89"
      },
      "outputs": [
        {
          "name": "stdout",
          "output_type": "stream",
          "text": [
            "[LibSVM]"
          ]
        }
      ],
      "source": [
        "filename = 'SVC_MODEL_TTS'\n",
        "model = SVC(kernel='linear', C=1, verbose=True, probability=True, random_state=42).fit(X_train, y_train)"
      ]
    },
    {
      "cell_type": "code",
      "execution_count": null,
      "metadata": {
        "id": "V0B2ntGJTDPQ"
      },
      "outputs": [],
      "source": [
        "filename = 'MLP_MODEL_TTS'\n",
        "model = MLPClassifier(verbose=1, random_state=42).fit(X_train, y_train)"
      ]
    },
    {
      "cell_type": "code",
      "execution_count": null,
      "metadata": {
        "id": "W-nOfcBTgRYL"
      },
      "outputs": [],
      "source": [
        "# https://en.wikipedia.org/wiki/Precision_and_recall\n",
        "\n",
        "train_preds = model.predict(X_train)\n",
        "test_preds = model.predict(X_test)\n",
        "\n",
        "print(f\"Train Accuracy : {accuracy_score(y_train, train_preds):.4f}\")\n",
        "print(f\"Test  Accuracy : {accuracy_score(y_test, test_preds):.4f}\")\n",
        "print(\"\\nClassification Report : \")\n",
        "print(classification_report(y_test, test_preds))"
      ]
    },
    {
      "cell_type": "code",
      "execution_count": null,
      "metadata": {
        "colab": {
          "base_uri": "https://localhost:8080/"
        },
        "id": "eyTyZq5051_u",
        "outputId": "7146e232-3945-4e20-dd8d-a29d83b84085"
      },
      "outputs": [
        {
          "data": {
            "text/plain": [
              "['/content/drive/MyDrive/Project/Models/MLP_MODEL_TTS.joblib']"
            ]
          },
          "execution_count": 27,
          "metadata": {},
          "output_type": "execute_result"
        }
      ],
      "source": [
        "dump(model, f'/content/drive/MyDrive/Project/Models/{filename}.joblib')"
      ]
    },
    {
      "cell_type": "markdown",
      "metadata": {
        "id": "PrfXMuQ7i7OI"
      },
      "source": [
        "# Test CV & train\n",
        "Sprawdzenie modelu przez CV, następnie trenowanie na X, y"
      ]
    },
    {
      "cell_type": "code",
      "execution_count": null,
      "metadata": {
        "id": "1FwNEksq4hLb"
      },
      "outputs": [],
      "source": [
        "filename = 'MNB_EnronAll_MaxFeatures1000'\n",
        "model = MultinomialNB(force_alpha=True)"
      ]
    },
    {
      "cell_type": "code",
      "execution_count": null,
      "metadata": {
        "id": "dEnGGJyqm-F5"
      },
      "outputs": [],
      "source": [
        "filename = 'SVC_EnronAll_MaxFeatures1000'\n",
        "model = SVC(kernel='linear', C=1, verbose=True, probability=True, random_state=42)"
      ]
    },
    {
      "cell_type": "code",
      "execution_count": null,
      "metadata": {
        "id": "SNONoa6v4tOg"
      },
      "outputs": [],
      "source": [
        "filename = 'MLP_EnronAll_MaxFeatures1000'\n",
        "model = MLPClassifier(verbose=1, random_state=42)"
      ]
    },
    {
      "cell_type": "code",
      "execution_count": null,
      "metadata": {
        "id": "l4qZ5kY64svc"
      },
      "outputs": [],
      "source": [
        "scoring = ['accuracy', 'precision', 'recall', 'f1']\n",
        "cv_results = cross_validate(model, X, y, cv=10, scoring=scoring)"
      ]
    },
    {
      "cell_type": "code",
      "execution_count": null,
      "metadata": {
        "colab": {
          "base_uri": "https://localhost:8080/"
        },
        "id": "XbKugVOW85Vh",
        "outputId": "3f6e03bb-3785-4383-9228-f3a1deecc2f9"
      },
      "outputs": [
        {
          "name": "stdout",
          "output_type": "stream",
          "text": [
            "Test Accuracy  : 0.9678\n",
            "Test Precision : 0.9582\n",
            "Test Recall    : 0.9798\n",
            "Test f1        : 0.9688\n",
            "Fit time       : 74.7915\n",
            "Std deviation  : 0.01\n"
          ]
        }
      ],
      "source": [
        "print(f\"Test Accuracy  : {cv_results['test_accuracy'].mean():.4f}\")\n",
        "print(f\"Test Precision : {cv_results['test_precision'].mean():.4f}\")\n",
        "print(f\"Test Recall    : {cv_results['test_recall'].mean():.4f}\")\n",
        "print(f\"Test f1        : {cv_results['test_f1'].mean():.4f}\")\n",
        "print(f\"Fit time       : {cv_results['fit_time'].mean():.4f}\")\n",
        "print(f\"Std deviation  : {cv_results['test_accuracy'].std():.2f}\")"
      ]
    },
    {
      "cell_type": "code",
      "execution_count": null,
      "metadata": {
        "id": "phIL5-VELTJ3"
      },
      "outputs": [],
      "source": [
        "model = model.fit(X, y)"
      ]
    },
    {
      "cell_type": "code",
      "execution_count": null,
      "metadata": {
        "colab": {
          "base_uri": "https://localhost:8080/"
        },
        "id": "_KQv55M4fjUs",
        "outputId": "bc799523-1dcd-4e03-eafe-4dccbb9d5da8"
      },
      "outputs": [
        {
          "data": {
            "text/plain": [
              "['/content/drive/MyDrive/Project/Models/MLP_EnronAll_MaxFeatures1000.joblib']"
            ]
          },
          "execution_count": 60,
          "metadata": {},
          "output_type": "execute_result"
        }
      ],
      "source": [
        "dump(model, f'/content/drive/MyDrive/Project/Models/{filename}.joblib')"
      ]
    },
    {
      "cell_type": "markdown",
      "metadata": {
        "id": "e-jqO13T33f3"
      },
      "source": [
        "# Krzywa uczenia"
      ]
    },
    {
      "cell_type": "code",
      "execution_count": null,
      "metadata": {
        "id": "tXBb4Ga0xAoV"
      },
      "outputs": [],
      "source": [
        "from sklearn.datasets import load_digits\n",
        "from sklearn.naive_bayes import MultinomialNB\n",
        "from sklearn.svm import SVC\n",
        "from sklearn.neural_network import MLPClassifier\n",
        "import matplotlib.pyplot as plt\n",
        "import numpy as np\n",
        "\n",
        "from sklearn.model_selection import LearningCurveDisplay, ShuffleSplit, StratifiedKFold\n",
        "\n",
        "# X, y = load_digits(return_X_y=True)\n",
        "naive_bayes = MultinomialNB(force_alpha=True)\n",
        "svc = SVC(kernel='linear', C=1, verbose=True, probability=True, random_state=42)\n",
        "mlp = MLPClassifier(verbose=1, random_state=42)\n",
        "\n",
        "fig, ax = plt.subplots(nrows=1, ncols=3, figsize=(20, 6), sharey=False)\n",
        "\n",
        "common_params = {\n",
        "    \"X\": X,\n",
        "    \"y\": y,\n",
        "    \"train_sizes\": np.linspace(0.1, 1.0, 10),\n",
        "    \"cv\": StratifiedKFold(n_splits=10, shuffle=True, random_state=42),\n",
        "    \"score_type\": \"both\",\n",
        "    \"n_jobs\": 4,\n",
        "    \"line_kw\": {\"marker\": \"o\"},\n",
        "    \"std_display_style\": \"fill_between\",\n",
        "    \"score_name\": \"Accuracy\",\n",
        "}\n",
        "\n",
        "for ax_idx, estimator in enumerate([naive_bayes, svc, mlp]):\n",
        "    LearningCurveDisplay.from_estimator(estimator, **common_params, ax=ax[ax_idx])\n",
        "    handles, label = ax[ax_idx].get_legend_handles_labels()\n",
        "    ax[ax_idx].legend(handles[:2], [\"Training\", \"Test\"])\n",
        "    ax[ax_idx].set_title(f\"{estimator.__class__.__name__}\")\n",
        "\n",
        "plt.show()"
      ]
    },
    {
      "cell_type": "code",
      "execution_count": null,
      "metadata": {
        "colab": {
          "base_uri": "https://localhost:8080/"
        },
        "id": "tZOx1Nr88slV",
        "outputId": "6c3617e7-fa80-4ab7-c78f-7ab841046091"
      },
      "outputs": [
        {
          "name": "stdout",
          "output_type": "stream",
          "text": [
            "[[ 0.  0.  5. ...  0.  0.  0.]\n",
            " [ 0.  0.  0. ... 10.  0.  0.]\n",
            " [ 0.  0.  0. ... 16.  9.  0.]\n",
            " ...\n",
            " [ 0.  0.  1. ...  6.  0.  0.]\n",
            " [ 0.  0.  2. ... 12.  0.  0.]\n",
            " [ 0.  0. 10. ... 12.  1.  0.]]\n"
          ]
        }
      ],
      "source": [
        "print(X)"
      ]
    },
    {
      "cell_type": "markdown",
      "metadata": {
        "id": "xX9CZuZYu_MR"
      },
      "source": [
        "# Load model"
      ]
    },
    {
      "cell_type": "code",
      "execution_count": null,
      "metadata": {
        "id": "dEQDsKmK5WUg"
      },
      "outputs": [],
      "source": [
        "filename = 'MLP_Enron1245_MaxFeatures1000'"
      ]
    },
    {
      "cell_type": "code",
      "execution_count": null,
      "metadata": {
        "colab": {
          "base_uri": "https://localhost:8080/"
        },
        "id": "drtP7M8dgK65",
        "outputId": "b4b376be-747c-4eb6-e539-8af74cdca513"
      },
      "outputs": [
        {
          "name": "stdout",
          "output_type": "stream",
          "text": [
            "Załadowano: MLP_Enron1245_MaxFeatures1000\n"
          ]
        }
      ],
      "source": [
        "model = load(f'/content/drive/MyDrive/Project/Models/{filename}.joblib')\n",
        "print(f'Załadowano: {filename}')"
      ]
    }
  ],
  "metadata": {
    "accelerator": "GPU",
    "colab": {
      "gpuType": "T4",
      "provenance": [],
      "toc_visible": true
    },
    "kernelspec": {
      "display_name": "Python 3",
      "name": "python3"
    },
    "language_info": {
      "name": "python"
    }
  },
  "nbformat": 4,
  "nbformat_minor": 0
}
